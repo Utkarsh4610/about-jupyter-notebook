{
 "cells": [
  {
   "cell_type": "code",
   "execution_count": 2,
   "metadata": {},
   "outputs": [
    {
     "name": "stdout",
     "output_type": "stream",
     "text": [
      "1.14.0\n"
     ]
    }
   ],
   "source": [
    "import tensorflow as tf\n",
    "print(tf.__version__)"
   ]
  },
  {
   "cell_type": "markdown",
   "metadata": {},
   "source": [
    "## Some jupyter notebook basics"
   ]
  },
  {
   "cell_type": "markdown",
   "metadata": {},
   "source": [
    "### press b key to make a new row\n",
    "### press a to make a row above"
   ]
  },
  {
   "cell_type": "markdown",
   "metadata": {},
   "source": [
    "### press y to make a cell for code\n",
    "### press m to make a cell for markdown"
   ]
  },
  {
   "cell_type": "markdown",
   "metadata": {},
   "source": [
    "### press dd to delete a row"
   ]
  },
  {
   "cell_type": "markdown",
   "metadata": {},
   "source": [
    "### press alt enter to execute code"
   ]
  },
  {
   "cell_type": "markdown",
   "metadata": {},
   "source": [
    "### to create a new virtual environment \n",
    " conda create -n myenv python==3.6\n",
    "### to activate new environment \n",
    "conda acivate myenv\n",
    "### to deactivate \n",
    "conda deacrivate"
   ]
  },
  {
   "cell_type": "markdown",
   "metadata": {},
   "source": [
    "### to intall that virtual environment on jupyter notebook\n",
    "#### install ipykernel\n",
    "pip install ipykernel\n",
    "#### install virtual env by given command\n",
    "python -m ipykernel install --user --name virtual_env_name --display-name displaynamehere"
   ]
  },
  {
   "cell_type": "markdown",
   "metadata": {},
   "source": [
    "### to remove a environment from jupyter notebook\n",
    "#### show all environment on jupyternotebook \n",
    "jupyter kernelspec list\n",
    "#### remove particular virtual environment\n",
    "jupyter kernelspec remove name-of-env\n"
   ]
  },
  {
   "cell_type": "markdown",
   "metadata": {},
   "source": [
    "### to install themes in jupyter notebook\n",
    "#### install themes package by\n",
    "pip install jupyterthemes\n",
    "#### to list available themes\n",
    "jt -l\n",
    "#### to activate a theme\n",
    "jt -t name-of-theme\n",
    "#### to restore theme\n",
    "jt -r"
   ]
  },
  {
   "cell_type": "markdown",
   "metadata": {},
   "source": [
    "### How to enable a variable explorer like spyder on jupyter\n",
    "#### if we use conda\n",
    "conda install -c conda-forge jupyter_contrib_nbextensions\n",
    "#### or if we use pip:\n",
    "pip install jupyter_contrib_nbextensions\n",
    "jupyter contrib nbextension install --user\n",
    "\n",
    "#### after installation enable the extension\n",
    "jupyter nbextension enable varInspector/main\n",
    "\n",
    "#### restart jupyter notebook to see changes"
   ]
  },
  {
   "cell_type": "markdown",
   "metadata": {},
   "source": [
    "#### optimal setting for theme and text\n",
    "jt -t onedork -fs 120 -ofs 12 -altp -tfs 12 -nfs 115 -cellw 88% -lineh 120 -T -N"
   ]
  }
 ],
 "metadata": {
  "kernelspec": {
   "display_name": "Python 3",
   "language": "python",
   "name": "python3"
  },
  "language_info": {
   "codemirror_mode": {
    "name": "ipython",
    "version": 3
   },
   "file_extension": ".py",
   "mimetype": "text/x-python",
   "name": "python",
   "nbconvert_exporter": "python",
   "pygments_lexer": "ipython3",
   "version": "3.7.3"
  },
  "varInspector": {
   "cols": {
    "lenName": 16,
    "lenType": 16,
    "lenVar": 40
   },
   "kernels_config": {
    "python": {
     "delete_cmd_postfix": "",
     "delete_cmd_prefix": "del ",
     "library": "var_list.py",
     "varRefreshCmd": "print(var_dic_list())"
    },
    "r": {
     "delete_cmd_postfix": ") ",
     "delete_cmd_prefix": "rm(",
     "library": "var_list.r",
     "varRefreshCmd": "cat(var_dic_list()) "
    }
   },
   "types_to_exclude": [
    "module",
    "function",
    "builtin_function_or_method",
    "instance",
    "_Feature"
   ],
   "window_display": false
  }
 },
 "nbformat": 4,
 "nbformat_minor": 2
}
